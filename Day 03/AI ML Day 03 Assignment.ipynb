{
 "cells": [
  {
   "cell_type": "markdown",
   "metadata": {},
   "source": [
    "# Day 03 AI-ML-July -2020 Assignment"
   ]
  },
  {
   "cell_type": "markdown",
   "metadata": {},
   "source": [
    "## Question 1\n",
    "\n",
    "### Write a program to Subtract Two Complex Number"
   ]
  },
  {
   "cell_type": "code",
   "execution_count": 1,
   "metadata": {},
   "outputs": [
    {
     "name": "stdout",
     "output_type": "stream",
     "text": [
      "Two Complext Numbers Subtraction Result= (1+1j)\n"
     ]
    }
   ],
   "source": [
    "def complex_subtraction(cmp1,cmp2):\n",
    "    \"\"\"\n",
    "    cmp1: First Complex Number\n",
    "    cmp2: Second Complex Number\n",
    "    cmp1-cmp2: result\n",
    "    \"\"\"\n",
    "    return cmp1-cmp2\n",
    "\n",
    "cmp1=2+3j # First Complex Number\n",
    "cmp2=1+2j # Second Complext Number\n",
    "result=complex_subtraction(cmp1,cmp2)  # Store subtraction in result variable\n",
    "\n",
    "print('Two Complext Numbers Subtraction Result=',result)\n"
   ]
  },
  {
   "cell_type": "markdown",
   "metadata": {},
   "source": [
    "## Question 2\n",
    "### Write Code to find the Forth Root of Number"
   ]
  },
  {
   "cell_type": "code",
   "execution_count": 2,
   "metadata": {},
   "outputs": [
    {
     "name": "stdout",
     "output_type": "stream",
     "text": [
      "Fourth Root of Number= 2.0\n"
     ]
    }
   ],
   "source": [
    "def fourth_root(num):\n",
    "    \"\"\"\n",
    "    num: Number\n",
    "    return_type: float\n",
    "    \"\"\"\n",
    "    return pow(num,1/4)\n",
    "\n",
    "num=16 # Number\n",
    "result= fourth_root(num) # Apply fourth_root function and store in result\n",
    "\n",
    "print('Fourth Root of Number=',result)\n"
   ]
  },
  {
   "cell_type": "markdown",
   "metadata": {},
   "source": [
    "# Question 3\n",
    "\n",
    "## Write a program to swap two numbers in python with the help of temp Variable\n"
   ]
  },
  {
   "cell_type": "code",
   "execution_count": 3,
   "metadata": {},
   "outputs": [
    {
     "name": "stdout",
     "output_type": "stream",
     "text": [
      "Before Swap First num1= 4 & Second num2= 5\n",
      "----------------------------------------------------\n",
      "After Swap First num1= 5 & Second num2= 4\n"
     ]
    }
   ],
   "source": [
    "def swap_two_num_with_temp(num1,num2):\n",
    "    \"\"\"\n",
    "    input_type: int num1,num2 \n",
    "    return_type: int num1,num2\n",
    "    \"\"\"\n",
    "    temp=0 # Tempprary Variable to hold value\n",
    "    temp=num1\n",
    "    num1=num2\n",
    "    num2=temp\n",
    "    return num1,num2\n",
    "\n",
    "num1= 4 # First Number Value\n",
    "num2= 5 # Second Number value\n",
    "print('Before Swap First num1=',num1,'& Second num2=',num2 )\n",
    "\n",
    "print('----------------------------------------------------')\n",
    "num1,num2=swap_two_num_with_temp(num1,num2) # Store swap result\n",
    "\n",
    "print('After Swap First num1=',num1,'& Second num2=',num2 )\n",
    "    "
   ]
  },
  {
   "cell_type": "markdown",
   "metadata": {},
   "source": [
    "# Question 4\n",
    "\n",
    "## Write a program to swap two numbers in python without using temporary variable"
   ]
  },
  {
   "cell_type": "code",
   "execution_count": 4,
   "metadata": {},
   "outputs": [
    {
     "name": "stdout",
     "output_type": "stream",
     "text": [
      "Before Swap First num1= 21 & Second num2= 33\n",
      "----------------------------------------------------\n",
      "After Swap First num1= 33 & Second num2= 21\n"
     ]
    }
   ],
   "source": [
    "def swap_two_num_without_temp(num1,num2):\n",
    "    \"\"\"\n",
    "    input_type: int num1,num2 \n",
    "    return_type: int num1,num2\n",
    "    \"\"\"\n",
    "    num1,num2=num2,num1\n",
    "    return num1,num2\n",
    "\n",
    "num1= 21 # First Number Value\n",
    "num2= 33 # Second Number value\n",
    "print('Before Swap First num1=',num1,'& Second num2=',num2 )\n",
    "\n",
    "print('----------------------------------------------------')\n",
    "num1,num2=swap_two_num_without_temp(num1,num2) # Store swap result\n",
    "\n",
    "print('After Swap First num1=',num1,'& Second num2=',num2 )"
   ]
  },
  {
   "cell_type": "markdown",
   "metadata": {},
   "source": [
    "# Question 5\n",
    "\n",
    "## Write a program in python to convert fahrenheit to kelvin and celsius both"
   ]
  },
  {
   "cell_type": "code",
   "execution_count": 5,
   "metadata": {},
   "outputs": [
    {
     "name": "stdout",
     "output_type": "stream",
     "text": [
      " Temperature :  93  Degree Fahrenheit &  306.89  Kelvin &  33.89  Degree Celsius\n"
     ]
    }
   ],
   "source": [
    "def fahren_to_kelvin_celsius(temp):\n",
    "    \"\"\"\n",
    "    input_type: temp in fahrenheit int \n",
    "    return_type: k kelvin and c celsius\n",
    "    \"\"\"\n",
    "    f = float(temp)\n",
    "    c = (5 * (f - 32)) / 9\n",
    "    k = c +273\n",
    "    return k,c\n",
    "\n",
    "temp=93 # temp in fahrenheit\n",
    "k,c=fahren_to_kelvin_celsius(temp) # convert f to k and c\n",
    "print (\" Temperature : \",temp,\" Degree Fahrenheit & \",round(k,2),\" Kelvin & \",round(c,2),\" Degree Celsius\")"
   ]
  },
  {
   "cell_type": "markdown",
   "metadata": {},
   "source": [
    "# Question 6\n",
    "\n",
    "## Write a program to demonstrate all the available data types in python"
   ]
  },
  {
   "cell_type": "code",
   "execution_count": 6,
   "metadata": {},
   "outputs": [
    {
     "name": "stdout",
     "output_type": "stream",
     "text": [
      "Name: Smarty  is of string data type <class 'str'>\n",
      "Num: 10  is of interger data type <class 'int'>\n",
      "Dnum: 23.56  is of Float data type <class 'float'>\n",
      "Cnum: (3+5j)  is of Complex data type <class 'complex'>\n",
      "Bl: True  is of boolean data type <class 'bool'>\n"
     ]
    }
   ],
   "source": [
    "# String\n",
    "name='Smarty'\n",
    "print('Name:',name,' is of string data type',type(name))\n",
    "\n",
    "# Integer\n",
    "num=10\n",
    "print('Num:',num,' is of interger data type',type(num))\n",
    "\n",
    "# Float or Decimal\n",
    "dnum=23.56\n",
    "print('Dnum:',dnum,' is of Float data type',type(dnum))\n",
    "\n",
    "#Complex\n",
    "cnum=3+5j\n",
    "print('Cnum:',cnum,' is of Complex data type',type(cnum))\n",
    "\n",
    "#Boolean[True , False]\n",
    "bl=True\n",
    "print('Bl:',bl,' is of boolean data type',type(bl))"
   ]
  },
  {
   "cell_type": "markdown",
   "metadata": {},
   "source": [
    "# Question 7\n",
    "\n",
    "## Steps to create Github Profile and Upload Assignment to Github\n"
   ]
  },
  {
   "cell_type": "markdown",
   "metadata": {},
   "source": [
    "### Steps to Open Account on Github"
   ]
  },
  {
   "cell_type": "markdown",
   "metadata": {},
   "source": [
    "#### 1) Go to https://github.com\n",
    "#### 2) Sing in if have account else create account with gmail\n",
    "#### 3) Verify created account with gmail"
   ]
  },
  {
   "cell_type": "markdown",
   "metadata": {},
   "source": [
    "### Upload Assignment to Github"
   ]
  },
  {
   "cell_type": "markdown",
   "metadata": {},
   "source": [
    "#### 1) Go to Home Page and Create a new repository\n",
    "#### 2) Assign a LetsUpgrade AI-ML name to directory\n",
    "#### 3) Keep it Public and don't make other Changes.\n",
    "#### 4) Hit Create Repository\n",
    "#### 5) Go uploading existing file from folder where we store assignment on local computer\n",
    "#### 6) Drag and drop folder in panel.\n",
    "#### 7) Hit Commit changes\n",
    "#### 8) Go to folder and assignment python file and copy url\n",
    "#### 9) Paste http url in assignment upload page provided by LetsUpgrade."
   ]
  }
 ],
 "metadata": {
  "kernelspec": {
   "display_name": "Python 3",
   "language": "python",
   "name": "python3"
  },
  "language_info": {
   "codemirror_mode": {
    "name": "ipython",
    "version": 3
   },
   "file_extension": ".py",
   "mimetype": "text/x-python",
   "name": "python",
   "nbconvert_exporter": "python",
   "pygments_lexer": "ipython3",
   "version": "3.7.3"
  }
 },
 "nbformat": 4,
 "nbformat_minor": 2
}
