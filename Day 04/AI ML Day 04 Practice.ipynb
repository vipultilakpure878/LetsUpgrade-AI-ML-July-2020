{
 "cells": [
  {
   "cell_type": "markdown",
   "metadata": {},
   "source": [
    "# Day 04 AI-ML-July-2020 Assignment"
   ]
  },
  {
   "cell_type": "markdown",
   "metadata": {},
   "source": [
    "## Question 1 \n",
    "\n",
    "__Research on whether addition, subtraction, multiplication, division, floor division and modulo\n",
    "operations be performed on complex numbers. Based on your study, implement a Python\n",
    "program to demonstrate these operations__"
   ]
  },
  {
   "cell_type": "code",
   "execution_count": 1,
   "metadata": {},
   "outputs": [],
   "source": [
    "# Operations on given Complex Number\n",
    "cnum1 = 2+3j # First Complex Number\n",
    "cnum2 = 3+5j # Second Complex Number"
   ]
  },
  {
   "cell_type": "markdown",
   "metadata": {},
   "source": [
    "### Addition[+] on Complex Numbers"
   ]
  },
  {
   "cell_type": "code",
   "execution_count": 2,
   "metadata": {},
   "outputs": [
    {
     "name": "stdout",
     "output_type": "stream",
     "text": [
      "Addition of Two Complex number is: (5+8j)\n"
     ]
    }
   ],
   "source": [
    "add=cnum1+cnum2 # Store addition into add variable\n",
    "print('Addition of Two Complex number is:',add) \n",
    "\n",
    "# We can perform Addition on complex Numbers"
   ]
  },
  {
   "cell_type": "markdown",
   "metadata": {},
   "source": [
    "### Subtraction[-] of Complex Numbers"
   ]
  },
  {
   "cell_type": "code",
   "execution_count": 3,
   "metadata": {},
   "outputs": [
    {
     "name": "stdout",
     "output_type": "stream",
     "text": [
      "Subtraction of Two Complex number is: (-1-2j)\n"
     ]
    }
   ],
   "source": [
    "sub=cnum1-cnum2 # Store addition into add variable\n",
    "print('Subtraction of Two Complex number is:',sub) \n",
    "\n",
    "# We can perform Subtraction on complex Numbers"
   ]
  },
  {
   "cell_type": "markdown",
   "metadata": {},
   "source": [
    "### Multiplication[*] of Complex Numbers"
   ]
  },
  {
   "cell_type": "code",
   "execution_count": 4,
   "metadata": {},
   "outputs": [
    {
     "name": "stdout",
     "output_type": "stream",
     "text": [
      "Multiplication of Two Complex number is: (-9+19j)\n"
     ]
    }
   ],
   "source": [
    "mul=cnum1*cnum2 # Store addition into add variable\n",
    "print('Multiplication of Two Complex number is:',mul) \n",
    "\n",
    "# We can perform Multiplication on complex Numbers."
   ]
  },
  {
   "cell_type": "markdown",
   "metadata": {},
   "source": [
    "### Division[/] of Complex Numbers"
   ]
  },
  {
   "cell_type": "code",
   "execution_count": 5,
   "metadata": {},
   "outputs": [
    {
     "name": "stdout",
     "output_type": "stream",
     "text": [
      "Division of Two Complex number is: (0.6176470588235294-0.02941176470588238j)\n"
     ]
    }
   ],
   "source": [
    "dvs=cnum1/cnum2 # Store addition into add variable\n",
    "print('Division of Two Complex number is:',dvs) \n",
    "\n",
    "# We can perform Division on complex Numbers."
   ]
  },
  {
   "cell_type": "markdown",
   "metadata": {},
   "source": [
    "### Floor Division [//] of Complex Numbers"
   ]
  },
  {
   "cell_type": "code",
   "execution_count": 6,
   "metadata": {},
   "outputs": [
    {
     "ename": "TypeError",
     "evalue": "can't take floor of complex number.",
     "output_type": "error",
     "traceback": [
      "\u001b[0;31m---------------------------------------------------------------------------\u001b[0m",
      "\u001b[0;31mTypeError\u001b[0m                                 Traceback (most recent call last)",
      "\u001b[0;32m<ipython-input-6-10831b87123d>\u001b[0m in \u001b[0;36m<module>\u001b[0;34m\u001b[0m\n\u001b[0;32m----> 1\u001b[0;31m \u001b[0mfdvs\u001b[0m\u001b[0;34m=\u001b[0m\u001b[0mcnum1\u001b[0m\u001b[0;34m//\u001b[0m\u001b[0mcnum2\u001b[0m \u001b[0;31m# Store addition into add variable\u001b[0m\u001b[0;34m\u001b[0m\u001b[0;34m\u001b[0m\u001b[0m\n\u001b[0m\u001b[1;32m      2\u001b[0m \u001b[0mprint\u001b[0m\u001b[0;34m(\u001b[0m\u001b[0;34m'Floor Division of Two Complex number is:'\u001b[0m\u001b[0;34m,\u001b[0m\u001b[0mfdvs\u001b[0m\u001b[0;34m)\u001b[0m\u001b[0;34m\u001b[0m\u001b[0;34m\u001b[0m\u001b[0m\n\u001b[1;32m      3\u001b[0m \u001b[0;34m\u001b[0m\u001b[0m\n\u001b[1;32m      4\u001b[0m \u001b[0;31m# We can perform Floor Division on complex Numbers.\u001b[0m\u001b[0;34m\u001b[0m\u001b[0;34m\u001b[0m\u001b[0;34m\u001b[0m\u001b[0m\n",
      "\u001b[0;31mTypeError\u001b[0m: can't take floor of complex number."
     ]
    }
   ],
   "source": [
    "fdvs=cnum1//cnum2 # Store addition into add variable\n",
    "print('Floor Division of Two Complex number is:',fdvs) \n",
    "\n",
    "# We can't perform Floor Division on complex Numbers."
   ]
  },
  {
   "cell_type": "markdown",
   "metadata": {},
   "source": [
    "### Modulo[%] of Complex Numbers"
   ]
  },
  {
   "cell_type": "code",
   "execution_count": 7,
   "metadata": {},
   "outputs": [
    {
     "ename": "TypeError",
     "evalue": "can't mod complex numbers.",
     "output_type": "error",
     "traceback": [
      "\u001b[0;31m---------------------------------------------------------------------------\u001b[0m",
      "\u001b[0;31mTypeError\u001b[0m                                 Traceback (most recent call last)",
      "\u001b[0;32m<ipython-input-7-a011fa54b927>\u001b[0m in \u001b[0;36m<module>\u001b[0;34m\u001b[0m\n\u001b[0;32m----> 1\u001b[0;31m \u001b[0mmdlo\u001b[0m\u001b[0;34m=\u001b[0m\u001b[0mcnum1\u001b[0m\u001b[0;34m%\u001b[0m\u001b[0mcnum2\u001b[0m \u001b[0;31m# Store addition into add variable\u001b[0m\u001b[0;34m\u001b[0m\u001b[0;34m\u001b[0m\u001b[0m\n\u001b[0m\u001b[1;32m      2\u001b[0m \u001b[0mprint\u001b[0m\u001b[0;34m(\u001b[0m\u001b[0;34m'Modulo of Two Complex number is:'\u001b[0m\u001b[0;34m,\u001b[0m\u001b[0mmdlo\u001b[0m\u001b[0;34m)\u001b[0m\u001b[0;34m\u001b[0m\u001b[0;34m\u001b[0m\u001b[0m\n\u001b[1;32m      3\u001b[0m \u001b[0;34m\u001b[0m\u001b[0m\n\u001b[1;32m      4\u001b[0m \u001b[0;31m# We can't perform Floor Division on complex Numbers.\u001b[0m\u001b[0;34m\u001b[0m\u001b[0;34m\u001b[0m\u001b[0;34m\u001b[0m\u001b[0m\n",
      "\u001b[0;31mTypeError\u001b[0m: can't mod complex numbers."
     ]
    }
   ],
   "source": [
    "mdlo=cnum1%cnum2 # Store addition into add variable\n",
    "print('Modulo of Two Complex number is:',mdlo) \n",
    "\n",
    "# We can't perform Modulo on complex Numbers."
   ]
  },
  {
   "cell_type": "markdown",
   "metadata": {},
   "source": [
    "## Conclusion of All Above Operations Performed on Complex Numbers is\n",
    "__Can Do:__We can perform __Addition,Subtraction,Multiplication and Division__ on Complex Numbers.\n",
    "<br>    \n",
    "__Cant Do:__We \"can't\" perform __Floor Division and Modulo__ on Complex Numbers."
   ]
  },
  {
   "cell_type": "markdown",
   "metadata": {},
   "source": [
    "### ====================================================="
   ]
  },
  {
   "cell_type": "markdown",
   "metadata": {},
   "source": [
    "## Question 2\n",
    "\n",
    "__Research on range() functions and its parameters. Create a markdown cell and write in your own\n",
    "words (no copy-paste from google please) what you understand about it. Implement a small\n",
    "program of your choice on the same.__"
   ]
  },
  {
   "cell_type": "markdown",
   "metadata": {},
   "source": [
    "#### Range Function In Python:\n",
    "__Definition:__ range function is a function which help user to read,check and iterate thought an iteratore\n",
    "             kind of python object such as [ List, set, tuple,dictionary] or it generate elements upto given limit number\n",
    "<br>\n",
    "__Operation__: We can start from 0 by default to the last[-1] index of iterator object.\n",
    "<br>\n",
    "__Parameter__: range have mainly 3 parameters 1] start. 2] stop. 3] step\n",
    "<br>\n",
    "              1)__start__: starting index of operation by default it is 0\n",
    "<br>\n",
    "              2)__stop__: ending index of operation by default it is -1 or length of iterator object -1\n",
    "<br>\n",
    "              3)__step__: size of jump while iterating through object\n",
    "<br>\n",
    "\n",
    "__In Python 2__: We have xrange function\n"
   ]
  },
  {
   "cell_type": "markdown",
   "metadata": {},
   "source": [
    "### Example for range function"
   ]
  },
  {
   "cell_type": "markdown",
   "metadata": {},
   "source": [
    "__Going to print all element upto n__:\n",
    "\n",
    "n = 5"
   ]
  },
  {
   "cell_type": "code",
   "execution_count": 14,
   "metadata": {},
   "outputs": [
    {
     "name": "stdout",
     "output_type": "stream",
     "text": [
      "0\n",
      "1\n",
      "2\n",
      "3\n",
      "4\n"
     ]
    }
   ],
   "source": [
    "# Without start,stop,step\n",
    "for i in range(5):\n",
    "    print(i)"
   ]
  },
  {
   "cell_type": "code",
   "execution_count": 15,
   "metadata": {},
   "outputs": [
    {
     "name": "stdout",
     "output_type": "stream",
     "text": [
      "0\n",
      "2\n",
      "4\n"
     ]
    }
   ],
   "source": [
    "# with start,stop,step  where step 2\n",
    "for i in range(0,5,2):\n",
    "    print(i)"
   ]
  },
  {
   "cell_type": "markdown",
   "metadata": {},
   "source": [
    "### ====================================================="
   ]
  },
  {
   "cell_type": "markdown",
   "metadata": {},
   "source": [
    "## Question 3\n",
    "\n",
    "__Consider two numbers. Perform their subtraction and if the result of subtraction is greater than\n",
    "25, print their multiplication result else print their division result.__"
   ]
  },
  {
   "cell_type": "code",
   "execution_count": 17,
   "metadata": {},
   "outputs": [],
   "source": [
    "# First we will define a function for subtraction\n",
    "\n",
    "def subtraction_based_operations(num1,num2):\n",
    "    if num1-num2>25:\n",
    "        print('Subtraction of given two number is greater than 25 which is=',num1-num2)\n",
    "        print('Multiplication is=',num1*num2)\n",
    "    else:\n",
    "        print('Subtraction of given two number is not greater than 25 which is=',num1-num2)\n",
    "        print('Division is=',num1/num2)"
   ]
  },
  {
   "cell_type": "code",
   "execution_count": 20,
   "metadata": {},
   "outputs": [
    {
     "name": "stdout",
     "output_type": "stream",
     "text": [
      "Result with subtraction greater than 25\n",
      "Subtraction of given two number is greater than 25 which is= 40\n",
      "Multiplication is= 500\n",
      "================================================\n",
      "Result with subtraction not greater than 25\n",
      "Subtraction of given two number is not greater than 25 which is= 7\n",
      "Division is= 2.4\n"
     ]
    }
   ],
   "source": [
    "# First provide number have difference more than 25\n",
    "num1= 50 # first number\n",
    "num2= 10 # Second number \n",
    "\n",
    "print('Result with subtraction greater than 25')\n",
    "subtraction_based_operations(num1,num2)\n",
    "\n",
    "print('================================================')\n",
    "num1=12\n",
    "num2=5\n",
    "\n",
    "print('Result with subtraction not greater than 25')\n",
    "subtraction_based_operations(num1,num2)\n"
   ]
  },
  {
   "cell_type": "markdown",
   "metadata": {},
   "source": [
    "### ====================================================="
   ]
  },
  {
   "cell_type": "markdown",
   "metadata": {},
   "source": [
    "## Question 4\n",
    "\n",
    "__Consider a list of 10 elements of integer values. If the number in the list is divisible by 2, print the\n",
    "result as \"square of that number minus 2\".__"
   ]
  },
  {
   "cell_type": "code",
   "execution_count": 23,
   "metadata": {},
   "outputs": [],
   "source": [
    "# First we will define function\n",
    "def divisble_by_two(nums):\n",
    "    for i in nums:\n",
    "        if i%2==0:\n",
    "            print('Square of:',i,'is:',i**2,'so square minus 2 will be:',(i**2)-2)"
   ]
  },
  {
   "cell_type": "code",
   "execution_count": 24,
   "metadata": {},
   "outputs": [
    {
     "name": "stdout",
     "output_type": "stream",
     "text": [
      "Square of: 12 is: 144 so square minus 2 will be: 142\n",
      "Square of: 14 is: 196 so square minus 2 will be: 194\n",
      "Square of: 4 is: 16 so square minus 2 will be: 14\n",
      "Square of: 46 is: 2116 so square minus 2 will be: 2114\n",
      "Square of: 56 is: 3136 so square minus 2 will be: 3134\n",
      "Square of: 2 is: 4 so square minus 2 will be: 2\n",
      "Square of: 44 is: 1936 so square minus 2 will be: 1934\n"
     ]
    }
   ],
   "source": [
    "# Now we will declare list of 10 int numbers\n",
    "nums=[12,14,4,33,46,101,56,2,44,7]\n",
    "\n",
    "# Now we will call for function\n",
    "divisble_by_two(nums)"
   ]
  },
  {
   "cell_type": "markdown",
   "metadata": {},
   "source": [
    "### ====================================================="
   ]
  },
  {
   "cell_type": "markdown",
   "metadata": {},
   "source": [
    "## Question 5\n",
    "__Consider a list of 10 elements. Print all the elements in the list which are greater than 7 when that\n",
    "number is divided 2.__"
   ]
  },
  {
   "cell_type": "code",
   "execution_count": 25,
   "metadata": {},
   "outputs": [],
   "source": [
    "# First we will define function\n",
    "def greater_thanseven_divbytwo(nums):\n",
    "    for i in nums:\n",
    "        if i>7:\n",
    "            print('Element:',i,'is gt than 7,So element divided by 2 is:',i/2)"
   ]
  },
  {
   "cell_type": "code",
   "execution_count": 27,
   "metadata": {},
   "outputs": [
    {
     "name": "stdout",
     "output_type": "stream",
     "text": [
      "Element: 12 is gt than 7,So element divided by 2 is: 6.0\n",
      "Element: 14 is gt than 7,So element divided by 2 is: 7.0\n",
      "Element: 33 is gt than 7,So element divided by 2 is: 16.5\n",
      "Element: 46 is gt than 7,So element divided by 2 is: 23.0\n",
      "Element: 101 is gt than 7,So element divided by 2 is: 50.5\n",
      "Element: 56 is gt than 7,So element divided by 2 is: 28.0\n",
      "Element: 44 is gt than 7,So element divided by 2 is: 22.0\n"
     ]
    }
   ],
   "source": [
    "# Now we will declare list of 10 int numbers\n",
    "nums=[12,14,4,33,46,101,56,2,44,7]\n",
    "\n",
    "# Now we will call for function\n",
    "greater_thanseven_divbytwo(nums)"
   ]
  }
 ],
 "metadata": {
  "kernelspec": {
   "display_name": "Python 3",
   "language": "python",
   "name": "python3"
  },
  "language_info": {
   "codemirror_mode": {
    "name": "ipython",
    "version": 3
   },
   "file_extension": ".py",
   "mimetype": "text/x-python",
   "name": "python",
   "nbconvert_exporter": "python",
   "pygments_lexer": "ipython3",
   "version": "3.7.3"
  }
 },
 "nbformat": 4,
 "nbformat_minor": 2
}
