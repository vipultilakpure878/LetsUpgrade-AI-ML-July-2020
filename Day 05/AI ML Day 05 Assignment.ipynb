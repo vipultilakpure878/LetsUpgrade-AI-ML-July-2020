{
 "cells": [
  {
   "cell_type": "markdown",
   "metadata": {},
   "source": [
    "# Day 05 AI-ML-July-2020 Assignment"
   ]
  },
  {
   "cell_type": "markdown",
   "metadata": {},
   "source": [
    "## Question 1\n",
    "\n",
    "__Write a Python program to find the first 20 non-even prime natural numbers.__"
   ]
  },
  {
   "cell_type": "code",
   "execution_count": 1,
   "metadata": {},
   "outputs": [],
   "source": [
    "# First we will define prime number check function\n",
    "def isPrime(n):\n",
    "   if n <= 1 or n % 1 > 0:\n",
    "      return False\n",
    "   for i in range(2, n//2):\n",
    "      if n % i == 0:\n",
    "         return False\n",
    "   return True"
   ]
  },
  {
   "cell_type": "code",
   "execution_count": 2,
   "metadata": {},
   "outputs": [
    {
     "name": "stdout",
     "output_type": "stream",
     "text": [
      "Enter the n value:20\n",
      "\n",
      "List of 20 non-even & prime number is:[3, 5, 7, 11, 13, 17, 19, 23, 29, 31, 37, 41, 43, 47, 53, 59, 61, 67, 71, 73]\n"
     ]
    }
   ],
   "source": [
    "# here we will implement a logic which pass number to is_prime_number function \n",
    "# to check number is odd and prime,then if it stisfy both condition then so store upto n\n",
    "# such numbers in list and then print\n",
    "\n",
    "# n means how many numbers we want to find\n",
    "\n",
    "def generate_n_odd_prime_number_list(n):\n",
    "    holder_list=[]\n",
    "    num=0\n",
    "    while n>0:\n",
    "        num+=1\n",
    "        if (num%2==1) and isPrime(num):\n",
    "            holder_list.append(num)\n",
    "            n-=1 \n",
    "    return holder_list\n",
    "\n",
    "n=int(input('Enter the n value:'))  # Accept the value of how many number we are searching\n",
    "print()\n",
    "result=generate_n_odd_prime_number_list(n) # generate the list of n non-even prime number\n",
    "print('List of {} non-even & prime number is:{}'.format(n,result))"
   ]
  },
  {
   "cell_type": "markdown",
   "metadata": {},
   "source": [
    "## ===================================================================="
   ]
  },
  {
   "cell_type": "markdown",
   "metadata": {},
   "source": [
    "## Question 2\n",
    "__Write a Python program to implement 15 functions of string.__"
   ]
  },
  {
   "cell_type": "code",
   "execution_count": 3,
   "metadata": {},
   "outputs": [
    {
     "name": "stdout",
     "output_type": "stream",
     "text": [
      "Given First String: machine Learning\n",
      "Given Second String: machine\n",
      "-------------------------------------------------------\n",
      "1) String Length: 16\n",
      " \n",
      "2) Capital Case: Machine learning\n",
      " \n",
      "3) Titled Case: Machine Learning\n",
      " \n",
      "4) All Upper Case: MACHINE LEARNING\n",
      " \n",
      "5) All Lower Case: machine learning\n",
      " \n",
      "6) All Swap Case: MACHINE lEARNING\n",
      " \n",
      "7) Join Of Two String: machine Learning ## machine\n",
      " \n",
      "8) Starts With String: True\n",
      " \n",
      "9) Ends With String: True\n",
      " \n",
      "10) Find Str2 in Str1 String: 0\n",
      " \n",
      "11) Check Does All Are Character in String: False\n",
      " \n",
      "12) Check Does There Any Digit in String: False\n",
      " \n",
      "13) Check Does All Are Digits in String: False\n",
      " \n",
      "14) Replace String: machine machine\n",
      " \n",
      "15) Count Of Given Character in String: 2\n",
      " \n"
     ]
    }
   ],
   "source": [
    "# Will Define One Single User define Function which will Return result of 15 String Functions\n",
    "\n",
    "def display_string_function_operations(str1,str2):\n",
    "    print('Given First String:', str1)\n",
    "    print('Given Second String:',str2)\n",
    "    print('-------------------------------------------------------')\n",
    "    \n",
    "    print('1) String Length:',len(str1))\n",
    "    print(' ')\n",
    "    \n",
    "    print('2) Capital Case:',str1.capitalize())\n",
    "    print(' ')\n",
    "    \n",
    "    print('3) Titled Case:',str1.title())\n",
    "    print(' ')\n",
    "    \n",
    "    print('4) All Upper Case:',str1.upper())\n",
    "    print(' ')\n",
    "    \n",
    "    print('5) All Lower Case:',str1.lower())\n",
    "    print(' ')\n",
    "    \n",
    "    print('6) All Swap Case:',str1.swapcase())\n",
    "    print(' ')\n",
    "    \n",
    "    print('7) Join Of Two String:',' ## '.join([str1,str2]))\n",
    "    print(' ')\n",
    "    \n",
    "    print('8) Starts With String:',str1.startswith('machin'))\n",
    "    print(' ')\n",
    "    \n",
    "    print('9) Ends With String:',str1.endswith('ning'))\n",
    "    print(' ')\n",
    "    \n",
    "    print('10) Find Str2 in Str1 String:',str1.find(str2))\n",
    "    print(' ')\n",
    "    \n",
    "    print('11) Check Does All Are Character in String:',str1.isalpha())\n",
    "    print(' ')\n",
    "    \n",
    "    print('12) Check Does There Any Digit in String:',str1.isalnum())\n",
    "    print(' ')\n",
    "    \n",
    "    print('13) Check Does All Are Digits in String:',str1.isdigit())\n",
    "    print(' ')\n",
    "    \n",
    "    print('14) Replace String:',str1.replace('Learning',str2,1))\n",
    "    print(' ')\n",
    "    \n",
    "    print('15) Count Of Given Character in String:',str1.count('a'))\n",
    "    print(' ')\n",
    "    \n",
    "    \n",
    "    \n",
    "str1='machine Learning'\n",
    "str2='machine'\n",
    "\n",
    "display_string_function_operations(str1,str2)\n"
   ]
  },
  {
   "cell_type": "markdown",
   "metadata": {},
   "source": [
    "## ===================================================================="
   ]
  },
  {
   "cell_type": "markdown",
   "metadata": {},
   "source": [
    "## Question 3\n",
    "\n",
    "__Write a Python program to check if the given string is a Palindrome or Anagram or None of them.\n",
    "Display the message accordingly to the user.__"
   ]
  },
  {
   "cell_type": "code",
   "execution_count": 4,
   "metadata": {},
   "outputs": [
    {
     "name": "stdout",
     "output_type": "stream",
     "text": [
      "Enter First String:madam\n",
      "Enter Second String:aadmm\n",
      "------------------------------------------\n",
      "Yes Given String \"madam\" Is Palindrome:\n",
      "------------------------------------------\n",
      "Yes Given Two Strings \"madam\" & \"aadmm\" Are Anagram of Each Other:\n"
     ]
    }
   ],
   "source": [
    "# We will Use User define Function two test all cases.\n",
    "\n",
    "def isPalindrome(strone):\n",
    "    if strone==strone[::-1]:\n",
    "        return True\n",
    "    else:\n",
    "        return False\n",
    "\n",
    "def isAnagram(strone,strtwo):\n",
    "    if len(strone)==len(strtwo):\n",
    "        if sorted(strone)==sorted(strtwo):\n",
    "            return True\n",
    "        return False\n",
    "\n",
    "def check_string_palindrome_anagram(strone,strtwo):\n",
    "    if isPalindrome(strone)==True:\n",
    "        print('Yes Given String \"{}\" Is Palindrome:'.format(strone))\n",
    "    else:\n",
    "        print('Yes Given String \"{}\" Is Not Palindrome:'.format(strone))\n",
    "        \n",
    "    print('------------------------------------------')\n",
    "    \n",
    "    if isAnagram(strone,strtwo):\n",
    "        print('Yes Given Two Strings \"{}\" & \"{}\" Are Anagram of Each Other:'.format(strone,strtwo))\n",
    "    else:\n",
    "        print('Yes Given Two Strings \"{}\" & \"{}\" Are Not Anagram of Each Other:'.format(strone,strtwo))\n",
    "    \n",
    "    if isPalindrome(strone)== False and isAnagram(strone,strtwo)== False:\n",
    "        print('Given Strings Are Not Either Palindrome Nor Anagram')\n",
    "        \n",
    "        \n",
    "strone=input('Enter First String:')\n",
    "strtwo=input('Enter Second String:')\n",
    "print('------------------------------------------')\n",
    "check_string_palindrome_anagram(strone,strtwo)\n"
   ]
  },
  {
   "cell_type": "markdown",
   "metadata": {},
   "source": [
    "## ===================================================================="
   ]
  },
  {
   "cell_type": "markdown",
   "metadata": {},
   "source": [
    "# Question 4\n",
    "\n",
    "__Write a Python's user defined function that removes all the additional characters from the string\n",
    "and converts it finally to lower case using built-in lower(). eg: If the string is \"Dr. Darshan Ingle\n",
    "@AI-ML Trainer\", then the output be \"drdarshaningleaimltrainer\".__"
   ]
  },
  {
   "cell_type": "code",
   "execution_count": 5,
   "metadata": {},
   "outputs": [
    {
     "name": "stdout",
     "output_type": "stream",
     "text": [
      "Enter String With Special and Digit:Dr. Darshan Ingle @AI-ML Trainer\n",
      "Lower case stirng with only chanracter: \"drdarshaningleaimltrainer\"\n"
     ]
    }
   ],
   "source": [
    "# We will create user Define Function\n",
    "\n",
    "def lower_case_string(instr):\n",
    "    output=''\n",
    "    for i in instr:\n",
    "        if i.isalpha():\n",
    "               output=output+i\n",
    "    return output.lower()\n",
    "\n",
    "\n",
    "instr=input('Enter String With Special and Digit:')\n",
    "\n",
    "result=lower_case_string(instr)\n",
    "\n",
    "print('Lower case stirng with only chanracter: \"{}\"'.format(result))"
   ]
  }
 ],
 "metadata": {
  "kernelspec": {
   "display_name": "Python 3",
   "language": "python",
   "name": "python3"
  },
  "language_info": {
   "codemirror_mode": {
    "name": "ipython",
    "version": 3
   },
   "file_extension": ".py",
   "mimetype": "text/x-python",
   "name": "python",
   "nbconvert_exporter": "python",
   "pygments_lexer": "ipython3",
   "version": "3.7.3"
  }
 },
 "nbformat": 4,
 "nbformat_minor": 2
}
