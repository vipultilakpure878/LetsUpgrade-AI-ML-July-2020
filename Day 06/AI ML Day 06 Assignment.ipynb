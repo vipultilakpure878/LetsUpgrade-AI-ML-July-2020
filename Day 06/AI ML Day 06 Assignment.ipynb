{
 "cells": [
  {
   "cell_type": "markdown",
   "metadata": {},
   "source": [
    "# Day 06 AI-ML-July-2020 Assignment"
   ]
  },
  {
   "cell_type": "markdown",
   "metadata": {},
   "source": [
    "##  Question 1\n",
    "Assuming that we have some email addresses in the \"username@companyname.com\" format, please write program\n",
    "to print the company name of a given email address. Both user names and company names are composed of letters\n",
    "only.\n",
    "<br>\n",
    "__Input Format:__\n",
    "The first line of the input contains an email address.\n",
    "<br>\n",
    "__Output Format:__\n",
    "Print the company name in single line.\n",
    "<br>\n",
    "__Example:__\n",
    "__Input:__\n",
    "john@google.com\n",
    "<br>\n",
    "__Output:__\n",
    "google"
   ]
  },
  {
   "cell_type": "code",
   "execution_count": 1,
   "metadata": {},
   "outputs": [
    {
     "name": "stdout",
     "output_type": "stream",
     "text": [
      "--------Data Source and Type Inputs--------\n",
      "Enter Email Source [Direct Email/File Name]:john@google.com\n",
      "Enter 1 For Direct Email/2 For File:1\n",
      "--------Answer--------\n",
      "Email Company Name Read From Given Email:\"john@google.com\" is: google\n"
     ]
    }
   ],
   "source": [
    "# first we will define email_domain function\n",
    "\n",
    "def email_domain(email_data,option):\n",
    "    '''\n",
    "    email_data: string source of email\n",
    "    option: int type of data 1 if direct email ,2 if from file with multiple lines\n",
    "    return_type:print result\n",
    "    '''\n",
    "    print('--------Answer--------') \n",
    "    if option==1:# If User Only Passed Email not text file as input\n",
    "        result=email_data.split('@')[1].split('.')[0]\n",
    "        print('Email Company Name Read From Given Email:\"{}\" is: {}'.format(email_data,result))\n",
    "    elif option==2: # If user passed text file as input with multiple rows in it\n",
    "        file=open(email_data,'r')\n",
    "        result=file.readline().split('@')[1].split('.')[0]\n",
    "        print('Email Company Name Read From 1st Line of Given File \"{}\" is: {}'.format(email_data,result))\n",
    "        file.close()\n",
    "    else:\n",
    "        print('Provide Correct Data Source')\n",
    "        \n",
    "        \n",
    "print('--------Data Source and Type Inputs--------')              \n",
    "email_input=input('Enter Email Source [Direct Email/File Name]:') # file name or email input from user\n",
    "option=int(input('Enter 1 For Direct Email/2 For File:')) # type of input source 1= direct email/2=file name\n",
    "email_domain(email_input,option) # Call For a Function"
   ]
  },
  {
   "cell_type": "markdown",
   "metadata": {},
   "source": [
    "## ================================================================================"
   ]
  },
  {
   "cell_type": "markdown",
   "metadata": {},
   "source": [
    "## Question 2\n",
    "\n",
    "Write a program that accepts a comma-separated sequence of words as input and prints the words in a comma\n",
    "separated sequence after sorting them alphabetically.\n",
    "<br>\n",
    "__Input Format:__\n",
    "The first line of input contains words separated by the comma.\n",
    "<br>\n",
    "__Output Format:__\n",
    "Print the sorted words separated by the comma.\n",
    "<br>\n",
    "__Example:__\n",
    "__Input:__\n",
    "without,hello,bag,world\n",
    "<br>\n",
    "__Output:__\n",
    "bag,hello,without,world"
   ]
  },
  {
   "cell_type": "code",
   "execution_count": 2,
   "metadata": {},
   "outputs": [
    {
     "name": "stdout",
     "output_type": "stream",
     "text": [
      "--------Data Source and Type Inputs--------\n",
      "Enter Word Source [Direct/File Name]:comma_separted_word.txt\n",
      "Enter 1 For Direct/2 Form File:2\n",
      "--------Answer--------\n",
      "Sorted Word List Form Given File \"comma_separted_word.txt\" is: ['bag', 'hello', 'without', 'world']\n"
     ]
    }
   ],
   "source": [
    "# first we will define email_domain function\n",
    "\n",
    "def sorted_word_list(word_data,option):\n",
    "    '''\n",
    "    email_data: string source of email\n",
    "    option: int type of data 1 if direct email ,2 if from file with multiple lines\n",
    "    return_type:print result\n",
    "    '''\n",
    "    print('--------Answer--------') \n",
    "    if option==1:# If User Only Passed Email not text file as input\n",
    "        result=sorted(list(word_data.split(',')))\n",
    "        print('Sorted Word List Form Direct List:\"{}\" is: {}'.format(word_data,result))\n",
    "    elif option==2: # If user passed text file as input with multiple rows in it\n",
    "        file=open(word_data,'r')\n",
    "        result=sorted(list(file.readline().split(',')))\n",
    "        print('Sorted Word List Form Given File \"{}\" is: {}'.format(word_data,result))\n",
    "        file.close()\n",
    "    else:\n",
    "        print('Provide Correct Data Source')\n",
    "        \n",
    "        \n",
    "print('--------Data Source and Type Inputs--------')              \n",
    "email_input=input('Enter Word Source [Direct/File Name]:') # file name or email input from user\n",
    "option=int(input('Enter 1 For Direct/2 Form File:')) # type of input source 1= direct email/2=file name\n",
    "\n",
    "# Function Call\n",
    "sorted_word_list(email_input,option) # Call For a Function"
   ]
  },
  {
   "cell_type": "markdown",
   "metadata": {},
   "source": [
    "# ================================================================================"
   ]
  },
  {
   "cell_type": "markdown",
   "metadata": {},
   "source": [
    "## Question 3\n",
    "\n",
    "Create your own Jupyter Notebook for Sets.\n",
    "<br>\n",
    "__Reference link:__ https://www.w3schools.com/python/python_sets.asp"
   ]
  },
  {
   "cell_type": "code",
   "execution_count": 3,
   "metadata": {},
   "outputs": [
    {
     "name": "stdout",
     "output_type": "stream",
     "text": [
      "Givens Sets Are: First Set as: {'GER', 'CHINA', 'USA', 'IND'}  & Second Set As {1, 2, 3, 4, 5, 6}\n",
      "---------\n",
      "Each Element of Set1 Separated:\n",
      "GER CHINA USA IND ---------\n",
      "Does \"madam\" word present in Set1: False\n",
      "---------\n",
      "After Addiotion of Single Word Set 1: {'USA', 'Hello World', 'CHINA', 'IND', 'GER'}\n",
      "---------\n",
      "After Update Operation Set1: {1, 2, 3, 4, 5, 6, 'USA', 'Hello World', 'CHINA', 'IND', 'GER'}\n",
      "---------\n",
      "Lenght Of Set is: 11 & Set2 is: 6\n",
      "---------\n",
      "After Removing \"USA\" form Set 1 By Using remove(): {1, 2, 3, 4, 5, 6, 'Hello World', 'CHINA', 'IND', 'GER'}\n",
      "---------\n",
      "After Removing \"CHINA\" form Set 1 By Using discard(): {1, 2, 3, 4, 5, 6, 'Hello World', 'IND', 'GER'}\n",
      "---------\n",
      "After poping form Set 1 By Using pop: {2, 3, 4, 5, 6, 'Hello World', 'IND', 'GER'}\n",
      "---------\n",
      "Set3 Before Clear() {2, 3, 4, 5, 6, 'Hello World', 'IND', 'GER'}\n",
      "Set3 After Clear set()\n",
      "---------\n",
      "Set Union: {'B', 'C', 'D', 'E', 'A'}\n",
      "---------\n",
      "Set Difference: {'B', 'A'}\n",
      "---------\n",
      "Set Intersection: {'C'}\n",
      "---------\n",
      "Set4 Before Delete {1, 2, 3, 4, 5, 6}\n"
     ]
    }
   ],
   "source": [
    "# Here We Create One User Defined Function my_set_operations(set1,set2)\n",
    "# and will perform all set operations given on assigned url\n",
    "\n",
    "def my_set_operations(set1,set2):\n",
    "    \n",
    "    set3,set4=set1,set2\n",
    "    set_one={'A','B','C'}\n",
    "    set_two={'C','D','E'}\n",
    "    # print set as it is\n",
    "    print('Givens Sets Are: First Set as: {}  & Second Set As {}'.format(set1,set2))\n",
    "    \n",
    "    print('---------')\n",
    "    \n",
    "    # Loop Though Set And Print Each Value\n",
    "    print('Each Element of Set1 Separated:')\n",
    "    for i in set1:\n",
    "        print(i,end=' ')\n",
    "    \n",
    "    print('---------')\n",
    "    # Check does Given Element is in Set or Not\n",
    "    print('Does \"madam\" word present in Set1:', 'madam' in set1)\n",
    "    \n",
    "    print('---------')\n",
    "    #Add ['Hellow World'] Single Element to Set:\n",
    "    set1.add('Hello World')\n",
    "    print('After Addiotion of Single Word Set 1:',set1)\n",
    "    \n",
    "    print('---------')\n",
    "    # Update Set / Add Multiple Element to set1 \n",
    "    set1.update(set2)\n",
    "    print('After Update Operation Set1:',set1)\n",
    "    \n",
    "    print('---------')\n",
    "    # Lenght Of Each Set:\n",
    "    print('Lenght Of Set is: {} & Set2 is: {}'.format(len(set1),len(set2)))\n",
    "    \n",
    "    \n",
    "    print('---------')\n",
    "    # Remove Element Form Set2\n",
    "    set1.remove('USA')\n",
    "    print('After Removing \"USA\" form Set 1 By Using remove():',set1)\n",
    "    \n",
    "    print('---------')\n",
    "    set1.discard('CHINA')\n",
    "    print('After Removing \"CHINA\" form Set 1 By Using discard():',set1)\n",
    "    print('---------')\n",
    "    set1.pop()\n",
    "    print('After poping form Set 1 By Using pop:',set1)\n",
    "    print('---------')\n",
    "    \n",
    "    # Delete and Clear OPeration on Set 3 and Set4\n",
    "    print('Set3 Before Clear()',set3)\n",
    "    set3.clear()\n",
    "    print('Set3 After Clear',set3)\n",
    "    \n",
    "    print('---------')\n",
    "    # Set Operation\n",
    "    \n",
    "    result=set_one.union(set_two)\n",
    "    print('Set Union:',result)\n",
    "    \n",
    "    print('---------')\n",
    "    result=set_one.difference(set_two)\n",
    "    print('Set Difference:',result)\n",
    "    \n",
    "    print('---------')\n",
    "    result=set_one.intersection(set_two)\n",
    "    print('Set Intersection:',result)\n",
    "    \n",
    "    print('---------')\n",
    "    print('Set4 Before Delete',set4)\n",
    "    del set4\n",
    "    \n",
    "set1=set(['IND','GER','USA','CHINA'])\n",
    "set2=set([1,2,3,4,5,6])\n",
    "    \n",
    "# Function call For  my_set_operations(set1,set2):\n",
    "my_set_operations(set1,set2)"
   ]
  },
  {
   "cell_type": "markdown",
   "metadata": {},
   "source": [
    "## =========================================================================================================="
   ]
  },
  {
   "cell_type": "markdown",
   "metadata": {},
   "source": [
    "# Question 4\n",
    "\n",
    "Given a list of n-1 numbers ranging from 1 to n, your task is to find the missing number. There are no duplicates.\n",
    "<br>\n",
    "__Input Format:__\n",
    "The first line contains n-1 numbers with each number separated by a space.\n",
    "<br>\n",
    "__Output Format:__\n",
    "Print the missing number\n",
    "<br>\n",
    "__Example:__\n",
    "__Input:__\n",
    "1 2 4 6 3 7 8\n",
    "<br>    \n",
    "__Output:__\n",
    "5\n",
    "<br>    \n",
    "__Explanation:__\n",
    "In the above list of numbers 5 is missing and hence 5 is the input"
   ]
  },
  {
   "cell_type": "code",
   "execution_count": 4,
   "metadata": {},
   "outputs": [
    {
     "name": "stdout",
     "output_type": "stream",
     "text": [
      "Enter List:1 2 4 6 3 7 8\n",
      "Missing Number In Given List: [5]\n"
     ]
    }
   ],
   "source": [
    "# We will Define User Function find_missing_element\n",
    "\n",
    "def find_missing_element(input_list): \n",
    "    start = 1\n",
    "    end = max(input_list) \n",
    "    return sorted(set(range(start, end + 1)).difference(input_list)) \n",
    "  \n",
    "# Funcation call and List Input \n",
    "input_data = input('Enter List:')\n",
    "input_list=[int(i) for i in list(input_data.split(' '))]\n",
    "result=find_missing_element(input_list)\n",
    "print('Missing Number In Given List:',result)"
   ]
  },
  {
   "cell_type": "markdown",
   "metadata": {},
   "source": [
    "## =========================================================================================================="
   ]
  },
  {
   "cell_type": "markdown",
   "metadata": {},
   "source": [
    "# Question 5\n",
    "\n",
    "With a given list L, write a program to print this list L after removing all duplicate values with original order reserved.\n",
    "<br>\n",
    "__Example:__\n",
    "If the input list is\n",
    "12 24 35 24 88 120 155 88 120 155\n",
    "<br>\n",
    "Then the output should be\n",
    "12 24 35 88 120 155\n",
    "<br>\n",
    "__Explanation:__\n",
    "Third, seventh and ninth element of the list L has been removed because it was already present.\n",
    "<br>\n",
    "__Input Format:__\n",
    "In one line take the elements of the list L with each element separated by a space.\n",
    "<br>\n",
    "Output Format:\n",
    "Print the elements of the modified list in one line with each element separated by a space.\n",
    "<br>\n",
    "Example:\n",
    "__Input:__ 12 24 35 24\n",
    "<br>\n",
    "__Output:__\n",
    "12 24 35"
   ]
  },
  {
   "cell_type": "code",
   "execution_count": 5,
   "metadata": {},
   "outputs": [
    {
     "name": "stdout",
     "output_type": "stream",
     "text": [
      "Enter List:12 24 35 24 88 120 155 88 120 155\n",
      "List Unique Element With Reserved Place: ['12', '24', '35', '88', '120', '155']\n"
     ]
    }
   ],
   "source": [
    "# We will define unique_element_inorder(input_list)\n",
    "\n",
    "def unique_element_inorder(input_list):\n",
    "    output_list=[]\n",
    "    for i in input_list:\n",
    "        if i not in output_list:\n",
    "            output_list.append(i)\n",
    "    return output_list\n",
    "\n",
    "# Function Call And Input String Assignment\n",
    "input_data=input('Enter List:')\n",
    "input_list=list(input_data.split(' '))\n",
    "result=unique_element_inorder(input_list)\n",
    "print('List Unique Element With Reserved Place:',result)"
   ]
  }
 ],
 "metadata": {
  "kernelspec": {
   "display_name": "Python 3",
   "language": "python",
   "name": "python3"
  },
  "language_info": {
   "codemirror_mode": {
    "name": "ipython",
    "version": 3
   },
   "file_extension": ".py",
   "mimetype": "text/x-python",
   "name": "python",
   "nbconvert_exporter": "python",
   "pygments_lexer": "ipython3",
   "version": "3.7.3"
  }
 },
 "nbformat": 4,
 "nbformat_minor": 2
}
